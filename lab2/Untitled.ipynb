{
 "cells": [
  {
   "cell_type": "code",
   "execution_count": 1,
   "metadata": {
    "collapsed": false
   },
   "outputs": [
    {
     "name": "stdout",
     "output_type": "stream",
     "text": [
      "Index([u'Current fleet', u'New Fleet'], dtype='object')\n",
      "('Current Fleet Std : ', 6.4018054621797083)\n",
      "('New Fleet Std : ', 6.0689305451508577)\n",
      "0     24.0\n",
      "1     27.0\n",
      "2     27.0\n",
      "3     25.0\n",
      "4     31.0\n",
      "5     35.0\n",
      "6     24.0\n",
      "7     19.0\n",
      "8     28.0\n",
      "9     23.0\n",
      "10    27.0\n",
      "11    20.0\n",
      "12    22.0\n",
      "13    18.0\n",
      "14    20.0\n",
      "15    31.0\n",
      "16    32.0\n",
      "17    31.0\n",
      "18    32.0\n",
      "19    24.0\n",
      "20    26.0\n",
      "21    29.0\n",
      "22    24.0\n",
      "23    24.0\n",
      "24    33.0\n",
      "25    33.0\n",
      "26    32.0\n",
      "27    28.0\n",
      "28    19.0\n",
      "29    32.0\n",
      "      ... \n",
      "49    37.0\n",
      "50    32.0\n",
      "51    47.0\n",
      "52    41.0\n",
      "53    45.0\n",
      "54    34.0\n",
      "55    33.0\n",
      "56    24.0\n",
      "57    32.0\n",
      "58    39.0\n",
      "59    35.0\n",
      "60    32.0\n",
      "61    37.0\n",
      "62    38.0\n",
      "63    34.0\n",
      "64    34.0\n",
      "65    32.0\n",
      "66    33.0\n",
      "67    32.0\n",
      "68    25.0\n",
      "69    24.0\n",
      "70    37.0\n",
      "71    31.0\n",
      "72    36.0\n",
      "73    36.0\n",
      "74    34.0\n",
      "75    38.0\n",
      "76    32.0\n",
      "77    38.0\n",
      "78    32.0\n",
      "Name: New Fleet, dtype: float64\n"
     ]
    }
   ],
   "source": [
    "%run solution.py\n"
   ]
  },
  {
   "cell_type": "code",
   "execution_count": null,
   "metadata": {
    "collapsed": true
   },
   "outputs": [],
   "source": []
  }
 ],
 "metadata": {
  "kernelspec": {
   "display_name": "Python 2",
   "language": "python",
   "name": "python2"
  },
  "language_info": {
   "codemirror_mode": {
    "name": "ipython",
    "version": 2
   },
   "file_extension": ".py",
   "mimetype": "text/x-python",
   "name": "python",
   "nbconvert_exporter": "python",
   "pygments_lexer": "ipython2",
   "version": "2.7.12"
  }
 },
 "nbformat": 4,
 "nbformat_minor": 2
}
